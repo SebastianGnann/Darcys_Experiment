{
 "cells": [
  {
   "cell_type": "markdown",
   "id": "3363bd76-f040-44b2-ae3c-225bb8c3e811",
   "metadata": {},
   "source": [
    "# **Darcys Experiment**\n",
    "\n",
    "**Sebastian Gnann**\n",
    "\n",
    "\n",
    "Bei Fragen und Feedback wenden Sie sich bitte an: sebastian.gnann@hydrologie.uni-freiburg.de\n",
    "\n",
    "---\n",
    "\n",
    "## Einführung: Jupyter Notebooks\n",
    "\n",
    "Diese Online-Übung basiert auf einem sogenannten Jupyter Notebook (https://jupyter.org/). \n",
    "Ein Notebook besteht aus einzelnen Zellen, die entweder Markdown-Text oder Python-Code beinhalten.\n",
    "Sie können den Code auch ausblenden, indem Sie auf \"View > Collapse All Code\" klicken.\n",
    "\n",
    "Bitte führen Sie das gesamte Notebook von Anfang an aus, damit alle Python-Module und die Daten in der richtigen Reihenfolge geladen werden.\n",
    "Klicken Sie zunächst auf das Symbol \"Restart the kernel\". Dann können Sie jeden Abschnitt einzeln ausführen, indem Sie auf die entsprechende Zelle und dann auf das Symbol \"Run the selected cell and advance\" klicken (alternativ: Shift + Enter drücken). \n",
    "Sie können auch auf \"Restart the kernel and run all cells\" klicken, um das gesamte Notebook auszuführen. Dies sollte sicherstellen, dass alles in der richtigen Reihenfolge ausgeführt wird.\n",
    "Nun können Sie sich Stück für Stück durch die Text- und Codezellen arbeiten. \n",
    "\n",
    "Sollten Sie länger inaktiv sein, kann es vorkommen, dass das Notebook nicht mehr richtig läuft (z.B. Nachricht \"Kernel died unexpectedly\"). Starten Sie in diesem Fall das Notebook einfach neu, am besten mit \"Restart the kernel and run all cells\". Sie können dann direkt zu dem Punkt zurückkehren, an dem Sie sich befanden, und müssen sich nicht erneut durch alle Zellen klicken. Sollte das Notebook gar nicht mehr laufen, dann laden Sie bitte den gesamten Link erneut.\n",
    "\n",
    "Auf der linken Seite können Sie sich auch ein Inhaltsverzeichnis anzeigen lassen, indem Sie auf \"Table of Contents\" klicken. Das hilft beim Navigieren."
   ]
  },
  {
   "cell_type": "markdown",
   "id": "94f545c3-50b7-4ddd-9c8c-6493d0538394",
   "metadata": {},
   "source": [
    "## Henry Darcy\n",
    "\n",
    "Henry Darcy war ein französischer Ingenieur, der heutzutage vor allem für sein für die Hydrogeologie grundlegendes Gesetz bekannt ist. \n",
    "Dieses Jupyter-Notebook führt Sie durch sein Experiment and veranschaulicht anhand von Darcys Ergebnissen die Entdeckung des \"Darcy-Gesetzes\".\n",
    "\n",
    "<img src=\"figures/Henry_Darcy.png\" alt=\"drawing\" width=200/>\n",
    "\n",
    "**Abb.1**: Porträt von Henry Darcy von F. Perrodin, aus der Sammlung der Bibliothéque Municipale von Dijon. Aus Brown (2002).\n",
    "\n",
    "\n",
    "## Wasser für Dijon\n",
    "\n",
    "Henry Darcy wurde 1832 beauftragt die Wasserversorgung der Stadt Dijon zu planen.\n",
    "Um eine ausreichende Wasserqualität sicherzustellen, sollten Sandfilter verwendet werden. \n",
    "Im Zuge seiner Arbeit untersuchte Darcy zusammen mit Charles Ritter auch das Fließverhalten von Wasser durch sandgefüllte Säulen, wie es in Abb. 2 dargestellt ist.\n",
    "\n",
    "<img src=\"figures/Darcys_Apparatus.png\" alt=\"drawing\" width=300/>\n",
    "\n",
    "**Abb.2**: Säulenapparat (Darcy, 1856; Abbildung 3, Tafel 24). Aus Brown (2002).\n",
    "\n",
    "## Quellen\n",
    "\n",
    "Darcy, H. (1856). Les fontaines publiques de la ville de Dijon: exposition et application des principes à suivre et des formules à employer dans les questions de distribution d'eau (Vol. 1). Victor dalmont.\n",
    "https://books.google.de/books?hl=en&lr=&id=yXKx1zPVQMUC&oi=fnd&pg=PA1&ots=UdPk-oEje5&sig=ksXQ76YnQa8TMkioUfaoD7dF89s&redir_esc=y#v=onepage&q&f=false\n",
    "\n",
    "Freeze, R. A. (1994). Henry Darcy and the fountains of Dijon. Groundwater, 32(1), 23-30.\n",
    "https://ngwa.onlinelibrary.wiley.com/doi/epdf/10.1111/j.1745-6584.1994.tb00606.x\n",
    "\n",
    "Brown, G. O. (2002). Henry Darcy and the making of a law. Water Resources Research, 38(7), 11-1.\n",
    "https://agupubs.onlinelibrary.wiley.com/doi/full/10.1029/2001WR000727\n",
    "\n"
   ]
  },
  {
   "cell_type": "markdown",
   "id": "75b7fe07-9cf0-41c0-92fd-52ea98f5840d",
   "metadata": {},
   "source": [
    "## Notwendige Python Packages\n",
    "Es gibt verschiedene sogenannte Packages für Python, die bestimmte Funktionen ausführen. \n",
    "Manche Packages helfen beim Erstellen von Grafiken, andere erledigen bestimmte Rechenaufgaben (z.B. statistische Tests).\n",
    "Diese müssen am Anfang importiert werden. Wird das nicht gemacht, kann der nachstehende Code nicht ausgeführt werden."
   ]
  },
  {
   "cell_type": "code",
   "execution_count": null,
   "id": "06fab019-f0a7-4009-8651-0f759ad3b311",
   "metadata": {
    "jupyter": {
     "source_hidden": true
    }
   },
   "outputs": [],
   "source": [
    "# import all necessary Python packages\n",
    "import matplotlib.pyplot as plt\n",
    "from matplotlib.colors import Normalize\n",
    "import numpy as np\n",
    "from sklearn.linear_model import LinearRegression\n",
    "import pandas as pd\n",
    "import ipywidgets as widgets"
   ]
  },
  {
   "cell_type": "markdown",
   "id": "685c9c90-6ff5-429e-ba92-44a30f50201a",
   "metadata": {},
   "source": [
    "## Darcys Bericht\n",
    "\n",
    "Die Ergebnisse aus Darcys Versuchen sind in seinem Bericht (1856) festgehalten. \n",
    "Diese können nun genutzt werden um Darcys ursprüngliche Analyse erneut durchzuführen und dadurch selbst das Darcy Gesetz empirisch herzuleiten.\n",
    "\n",
    "Der Bericht enthält zwei Experimente. \n",
    "Das erste Experiment besteht aus 4 Sätzen (\"Sets\"), wobei die Druckhöhe am Säuleneinlass variiert wurde und die Druckhöhe am Säulenauslass dem Atmosphärendruck entsprach.\n",
    "Das zweite besteht aus einem Satz, wobei die Druckhöhe sowohl am Säuleneinlass als auch am Säulenauslass variiert wurde.\n",
    "Ingesamt gibt es also 5 verschiedene Versuche, in denen jeweils unterschiedliche Druckverhältnisse herrschten und in denen die Säulen mit unterschiedlichen Materialien gefüllt waren.\n",
    "\n",
    "Die folgenden Variablen wurden in den Experimenten variiert bzw. gemessen. Manche der Variablen können aus anderen Variablen errechnet werden.\n",
    "- $h_{in}$ [m] = Druckhöhe am Säuleneinlass\n",
    "- $h_{out}$ [m] = Druckhöhe am Säulenauslass\n",
    "- $\\Delta h$ [m] = Druckhöhenunterschied\n",
    "- $L$ [m] = Länge der Säule\n",
    "- $A$ [m²] = Querschnittsfläche der Säule\n",
    "- $Q$ [m³/s] = Durchfluss durch die Säule \n",
    "- $q$ [m/s] = spezifischer Durchfluss (= $Q/A$)\n",
    "\n",
    "<span style=\"color:Indigo\">**Frage**: *Anstelle der Durchflusses $Q$ [m³/s] betrachten wir häufig den sogenannten spezifischen Durchfluss $q$ [m/s]. Wieso könnte der spezifische Durchfluss nützlich sein (stellen Sie sich verschieden große Säulen vor)? Woran erinnern Sie die Einheiten von $q$?*</span>"
   ]
  },
  {
   "cell_type": "markdown",
   "id": "f989f417-2245-4d67-a936-604ce4c3ee48",
   "metadata": {},
   "source": [
    "## Analyse der Ergebnisse\n",
    "\n",
    "Wir schauen uns nun die Ergebnisse genauer an.\n",
    "Der Python-Code unten lädt zuerst die Daten und wandelt sie in SI-Einheiten um. \n",
    "Im Anschluss untersuchen wir graphisch den Zusammenhang zwischen spezifischem Durchfluss (häufig kurz Durchfluss) und dem mit der Länge normalisierten Druckhöhenunterschied, d.h. $\\Delta h / L$, für die verschiedenen Experimente (\"Sets\").\n",
    "\n",
    "<span style=\"color:Indigo\">**Frage**: *Wie hängt der Durchfluss durch die Säule quantitativ mit dem normalisierten Druckhöhenunterschied zusammen?*</span>\n"
   ]
  },
  {
   "cell_type": "code",
   "execution_count": null,
   "id": "18f876a2-ec60-4b27-850d-6bbabc15ce64",
   "metadata": {
    "jupyter": {
     "source_hidden": true
    },
    "tags": []
   },
   "outputs": [],
   "source": [
    "# load data into workspace\n",
    "df = pd.read_csv(\"results/Darcys_Experiment_1.csv\", sep=',')\n",
    "df[\"Flow\"] = df[\"Flow\"]/(np.pi*(.35/2)**2*60*1000) # convert to m/s\n",
    "df2 = pd.read_csv(\"results/Darcys_Experiment_2.csv\", sep=',')\n",
    "df2[\"Flow\"] = df2[\"Flow\"]/(np.pi*(.35/2)**2*60*1000) # convert to m/s\n",
    "\n",
    "def f(Set):\n",
    "    # plot data\n",
    "    fig, ax = plt.subplots(figsize=(4, 3))\n",
    "\n",
    "    if Set == \"Set 1.1\":    \n",
    "        ax.plot(df.loc[df[\"Set\"]==1,\"Pressure\"]/0.58, df.loc[df[\"Set\"]==1,\"Flow\"], 'o', c='#a6cee3', label='Set 1.1')\n",
    "    elif Set == \"Set 1.2\":\n",
    "        ax.plot(df.loc[df[\"Set\"]==2,\"Pressure\"]/1.14, df.loc[df[\"Set\"]==2,\"Flow\"], 'o', c='#1f78b4', label='Set 1.2')\n",
    "    elif Set == \"Set 1.3\":\n",
    "        ax.plot(df.loc[df[\"Set\"]==3,\"Pressure\"]/1.71, df.loc[df[\"Set\"]==3,\"Flow\"], 'o', c='#b2df8a', label='Set 1.3')\n",
    "    elif Set == \"Set 1.4\":\n",
    "        ax.plot(df.loc[df[\"Set\"]==4,\"Pressure\"]/1.70, df.loc[df[\"Set\"]==4,\"Flow\"], 'o', c='#33a02c', label='Set 1.4') \n",
    "    elif Set == \"Set 2.1\":\n",
    "        ax.plot(df2.loc[df2[\"Set\"]==1,\"Pressure difference\"]/1.1, df2.loc[df2[\"Set\"]==1,\"Flow\"], 'o', c='#fb9a99', label='Set 2.1')\n",
    "    ax.set_xlim([0, 20])\n",
    "    ax.set_ylim([0, 0.006])\n",
    "    plt.xlabel('Druckhöhenunterschied / Länge [-]')\n",
    "    plt.ylabel('Spezifischer Durchfluss [m/s]')\n",
    "    plt.legend(bbox_to_anchor=(1.04, 0.5), loc=\"center left\", borderaxespad=0)\n",
    "    plt.grid(alpha=0.5)\n",
    "    plt.show()\n",
    "\n",
    "widgets.interact(f, Set=[\"Set 1.1\", \"Set 1.2\", \"Set 1.3\", \"Set 1.4\", \"Set 2.1\"])\n",
    "\n",
    "%matplotlib inline"
   ]
  },
  {
   "cell_type": "markdown",
   "id": "631ebd37-0804-4332-9d41-1af3f7c1b66f",
   "metadata": {},
   "source": [
    "## Analyse der Ergebnisse\n",
    "\n",
    "Der Zusammenhang in der obigen Abbildung scheint linear zu sein, d.h. der Durchfluss kann als eine lineare Funktion des normalisierten Druckhöhenunterschieds beschrieben werden.\n",
    "Hierbei ist es egal, ob am Säulenauslass Atmosphärendruck oder ein anderer Druck herrscht, es kommt nur auf den Unterschied der Druckhöhe an.\n",
    "\n",
    "$$ Q = K  {\\Delta P \\over L} $$\n",
    "\n",
    "wobei $K$ nun eine lineare Konstante ist, die den Zusammenhang quantitativ beschreibt. \n",
    "Man kann $K$ berechnen, indem man eine lineare Funktion an die Daten anpasst (z.B. mittels linearer Regression mit $y$-Achsenabschnitt = 0).\n",
    "Dies ist in der nächsten Abbildung zu sehen.\n",
    "\n",
    "<span style=\"color:Indigo\">**Frage**: *Wie verändert sich die Beziehung für größere Werte von $K$ und wovon könnte $K$ abhängen?*</span>\n"
   ]
  },
  {
   "cell_type": "code",
   "execution_count": null,
   "id": "fc9a5663-e7c5-4d60-b260-b04c631fcf4c",
   "metadata": {
    "jupyter": {
     "source_hidden": true
    },
    "tags": []
   },
   "outputs": [],
   "source": [
    "# fit data\n",
    "def plot_linear_regression(X,Y,color,text):\n",
    "    model = LinearRegression(fit_intercept=False)\n",
    "    model.fit(X, Y)\n",
    "    predictions = model.predict(X)\n",
    "    slope = model.coef_[0]\n",
    "    ax.plot(X, Y, 'o', c=color)\n",
    "    ax.plot(X, predictions, '-', c=color, label=text+f', K = {slope:.1e} m/s') #.2f\n",
    "\n",
    "# plot data\n",
    "fig, ax = plt.subplots(figsize=(4, 3))\n",
    "plot_linear_regression(df.loc[df[\"Set\"]==1,\"Pressure\"].values.reshape(-1, 1)/0.58, df.loc[df[\"Set\"]==1,\"Flow\"],'#a6cee3','Set 1.1')\n",
    "plot_linear_regression(df.loc[df[\"Set\"]==2,\"Pressure\"].values.reshape(-1, 1)/1.14, df.loc[df[\"Set\"]==2,\"Flow\"],'#1f78b4','Set 1.2')\n",
    "plot_linear_regression(df.loc[df[\"Set\"]==3,\"Pressure\"].values.reshape(-1, 1)/1.71, df.loc[df[\"Set\"]==3,\"Flow\"],'#b2df8a','Set 1.3')\n",
    "plot_linear_regression(df.loc[df[\"Set\"]==4,\"Pressure\"].values.reshape(-1, 1)/1.70, df.loc[df[\"Set\"]==4,\"Flow\"],'#33a02c','Set 1.4')\n",
    "plot_linear_regression(df2.loc[df2[\"Set\"]==1,\"Pressure difference\"].values.reshape(-1, 1)/1.1, df2.loc[df2[\"Set\"]==1,\"Flow\"],'#fb9a99','Set 2.1')\n",
    "ax.set_xlim([0, 20])\n",
    "ax.set_ylim([0, 0.006])\n",
    "plt.xlabel('Druckhöhenunterschied / Länge [-]')\n",
    "plt.ylabel('Spezifischer Durchfluss [m/s]')\n",
    "plt.grid(alpha=0.5)\n",
    "plt.legend(bbox_to_anchor=(1.04, 0.5), loc=\"center left\", borderaxespad=0)\n",
    "%matplotlib inline"
   ]
  },
  {
   "cell_type": "markdown",
   "id": "95fecdb3-180d-4a3c-ad55-1bb40eac6ed6",
   "metadata": {},
   "source": [
    "## Der Parameter $K$\n",
    "\n",
    "Der Parameter $K$ ist eine Eigenschaft des Materials in der Säule und wird heutzutage als hydraulische Leitfähigkeit (manchmal auch Durchlässigkeit) bezeichnet.\n",
    "Sie hängt von Eigenschaften des Materials ab, vor allem von der Korngröße, aber auch von der Verdichtung und der räumlichen Anordnung der Gesteinspartikel.\n",
    "Die hydraulische Leitfähigkeit ist eine zentrale Größe, die das Strömen von Wasser durch poröse Materialien beschreibt, so auch von Wasser durch Sediment- und Gesteinsschichten.\n",
    "Die hydraulische Leitfähigkeit hat die Einheit m/s (ist aber keine Geschwindigkeit im eigentlichen Sinn).\n",
    "\n",
    "Darcy (1856) schrieb, übersetzt aus dem Französischen: \"Die Unterschiede zwischen den Koeffizientenwerten rühren daher, dass der verwendete Sand nicht durchgehend homogen war. Bei der zweiten Serie war er nicht gewaschen, bei der dritten Serie war er gewaschen und bei der vierten Serie war er sehr gut gewaschen und etwas stärker gekörnt.\"\n",
    "Die folgenden Leitfähigkeiten wurden von Darcy berechnet. Der letzte Wert ist, wie von Freeze (1994) und Brown (2002) bemerkt, entweder falsch berechnet oder die angegebene Säulenlänge stimmt nicht.\n",
    "\n",
    "| Set | K [(L/m²)/s] | \n",
    "| -------- | -------- |\n",
    "| 1.1 | 0.286 |\n",
    "| 1.2 | 0.165 |\n",
    "| 1.3 | 0.216 | \n",
    "| 1.4 | 0.332 | \n",
    "\n",
    "<span style=\"color:Indigo\">**Frage**: *Stimmen die Leitfähigkeiten mit den hier berechneten Werten (s. Abbildung oben) überein?*</span>"
   ]
  },
  {
   "cell_type": "markdown",
   "id": "556dfcc0-7eb8-4ed3-b9a2-f29cca6b3acd",
   "metadata": {
    "tags": []
   },
   "source": [
    "## Übertragung auf Grundwassersysteme\n",
    "\n",
    "Der normalisierte Druckhöhenunterschied in echten Grundwassersystemen ist definiert durch den Unterschied der Standrohrspiegelhöhe $\\Delta h$ über eine gewisse Distanz $L$ (z.B. zwischen zwei Brunnen) und wird als hydraulischer Gradient bezeichnet. Man kann das Darcy-Gesetz dementsprecht wie folgt umformulieren:\n",
    "\n",
    "$$ q = - K {\\Delta h \\over L} $$\n",
    "\n",
    "\n",
    "Das Darcy-Gesetz beschreibt also den Durchfluss als Funktion der des hydraulischen Gradienten und der hydraulischen Leitfähigkeit. \n",
    "Um den volumetrischen Durchfluss $Q$ in m³/s zu erhalten, müsste man nun den spezifischen Durchfluss noch mit dem Aquiferquerschnitt multiplizieren. Meistens betrachtet man allerdings den spezifischen Durchfluss (häufig kurz Durchfluss), da dieser verschieden große Systeme vergleichbar macht.\n",
    "\n",
    "Die Regler unten erlauben es nun das Darcy-Gesetz anzuwenden. Links kann die hydraulische Leitfähigkeit variiert werden, rechts der hydraulische Gradient.\n",
    "\n",
    "<span style=\"color:Indigo\">**Frage**: *Was passiert mit dem Durchfluss, wenn die hydraulische Leitfähigkeit erhöht wird? Und was, wenn der hydraulische Gradient erhöht wird? Kann man die Leitfähigkeit bestimmen, wenn man nur den Durchfluss kennt?*</span>\n"
   ]
  },
  {
   "cell_type": "code",
   "execution_count": null,
   "id": "842a3d79-62b6-4a8c-94ae-f869d562678f",
   "metadata": {
    "jupyter": {
     "source_hidden": true
    },
    "tags": []
   },
   "outputs": [],
   "source": [
    "def f(K):\n",
    "    X = np.arange(0,0.2,0.01)\n",
    "    Y = K*X\n",
    "    fig, ax = plt.subplots(figsize=(4, 3))\n",
    "    ax.plot(X, Y, '-', c='tab:blue', label=f'K = {K:.1e} m/s')\n",
    "    ax.set_xlim([0, 0.1])\n",
    "    ax.set_ylim([0, 0.001])\n",
    "    #plt.xscale('log')\n",
    "    plt.xlabel('Hydraulischer Gradient [-]')\n",
    "    plt.ylabel('Spezifischer Durchfluss [m/s]')\n",
    "    plt.grid(alpha=0.5)\n",
    "    plt.legend(bbox_to_anchor=(1.04, 0.5), loc=\"center left\", borderaxespad=0)\n",
    "    plt.show()\n",
    "\n",
    "widgets.interact(f, K=(0.0001,0.01,0.0001))\n",
    "\n",
    "%matplotlib inline"
   ]
  },
  {
   "cell_type": "markdown",
   "id": "704f3f60-776b-4b9b-a894-101cc90bfc18",
   "metadata": {},
   "source": [
    "## Zusammenfassung und Ausblick\n",
    "Die Übung hat gezeigt, dass sowohl die hydraulische Leitfähigkeit als auch der hydraulischer Gradient essentiell sind um Grundwassersysteme zu verstehen. \n",
    "Deswegen messen wir diese beiden Variablen auch häufig. Wie genau und welche Herausforderungen es hierbei gibt, werden wir im weiteren Verlauf der Vorlesung erörtern.\n",
    "\n",
    "Das Darcy-Gesetz ist eine lineare Gleichung und daher recht einfach zu verstehen. \n",
    "Die Gleichung werden wir später mit anderen Gleichungen kombinieren um die Grundwasserströmungsgleichung zu erhalten. \n",
    "Das ist mathematisch zwar etwas komplizierter, aber grundsätzlich gilt auch dann immer noch: eine höhere hydraulische Leitfähigkeit und ein höherer hydraulischer Gradient führen zu einem höheren Durchfluss.\n"
   ]
  },
  {
   "cell_type": "code",
   "execution_count": null,
   "id": "0d9c608c-3eaa-4d89-a437-aaa0b23171a7",
   "metadata": {
    "jupyter": {
     "source_hidden": true
    }
   },
   "outputs": [],
   "source": []
  }
 ],
 "metadata": {
  "kernelspec": {
   "display_name": "Python 3 (ipykernel)",
   "language": "python",
   "name": "python3"
  },
  "language_info": {
   "codemirror_mode": {
    "name": "ipython",
    "version": 3
   },
   "file_extension": ".py",
   "mimetype": "text/x-python",
   "name": "python",
   "nbconvert_exporter": "python",
   "pygments_lexer": "ipython3",
   "version": "3.11.5"
  }
 },
 "nbformat": 4,
 "nbformat_minor": 5
}
