{
 "cells": [
  {
   "cell_type": "markdown",
   "id": "3363bd76-f040-44b2-ae3c-225bb8c3e811",
   "metadata": {},
   "source": [
    "# **Darcys Experiment**\n",
    "\n",
    "**Sebastian Gnann**\n",
    "\n",
    "\n",
    "Bei Fragen und Feedback wenden Sie sich bitte an: sebastian.gnann@hydrologie.uni-freiburg.de\n",
    "\n",
    "---\n",
    "\n",
    "## Henry Darcy\n",
    "\n",
    "Henry Darcy war ein französischer Ingenieur, der heutzutage vor allem für sein für die Hydrogeologie grundlegendes Gesetz bekannt ist.\n",
    "\n",
    "<img src=\"figures/Henry_Darcy.png\" alt=\"drawing\" width=200/>\n",
    "\n",
    "**Abb.1**: Porträt von Henry Darcy von F. Perrodin, aus der Sammlung der Bibliothéque Municipale von Dijon. Aus Brown (2002).\n",
    "\n",
    "\n",
    "## Wasser für Dijon\n",
    "\n",
    "Henry Darcy wurde 1832 beauftragt die Wasserversorgung der Stadt Dijon zu planen.\n",
    "Um eine ausreichende Wasserqualität sicherzustellen, sollten Sandfilter verwendet werden. \n",
    "Es war jedoch unklar, wie schnell die Sandfilter das Wasser reinigen können und damit wie viele Filter benötigt wurden.\n",
    "Darcy führte daher Fließversuche mit sandgefüllten Säulen durch.\n",
    "\n",
    "<img src=\"figures/Darcys_Apparatus.png\" alt=\"drawing\" width=300/>\n",
    "\n",
    "**Abb.2**: Säulenapparat (Darcy, 1856; Abbildung 3, Tafel 24). Aus Brown (2002).\n",
    "\n",
    "## Quellen\n",
    "\n",
    "Darcy, H. (1856). Les fontaines publiques de la ville de Dijon: exposition et application des principes à suivre et des formules à employer dans les questions de distribution d'eau (Vol. 1). Victor dalmont.\n",
    "https://books.google.de/books?hl=en&lr=&id=yXKx1zPVQMUC&oi=fnd&pg=PA1&ots=UdPk-oEje5&sig=ksXQ76YnQa8TMkioUfaoD7dF89s&redir_esc=y#v=onepage&q&f=false\n",
    "\n",
    "Freeze, R. A. (1994). Henry Darcy and the fountains of Dijon. Groundwater, 32(1), 23-30.\n",
    "https://ngwa.onlinelibrary.wiley.com/doi/epdf/10.1111/j.1745-6584.1994.tb00606.x\n",
    "\n",
    "Brown, G. O. (2002). Henry Darcy and the making of a law. Water Resources Research, 38(7), 11-1.\n",
    "https://agupubs.onlinelibrary.wiley.com/doi/full/10.1029/2001WR000727\n",
    "\n"
   ]
  },
  {
   "cell_type": "code",
   "execution_count": null,
   "id": "06fab019-f0a7-4009-8651-0f759ad3b311",
   "metadata": {},
   "outputs": [],
   "source": [
    "# import all necessary Python packages\n",
    "import matplotlib.pyplot as plt\n",
    "from matplotlib.colors import Normalize\n",
    "import numpy as np\n",
    "from sklearn.linear_model import LinearRegression\n",
    "import pandas as pd\n",
    "import ipywidgets as widgets"
   ]
  },
  {
   "cell_type": "markdown",
   "id": "685c9c90-6ff5-429e-ba92-44a30f50201a",
   "metadata": {},
   "source": [
    "## Darcys Bericht\n",
    "\n",
    "Die Ergebnisse aus Darcys Versuchen sind in seinem Bericht (1856) festgehalten. \n",
    "Diese können nun genutzt werden um Darcys ursprüngliche Analyse erneut durchzuführen und dadurch selbst das Darcy Gesetz empirisch herzuleiten."
   ]
  },
  {
   "cell_type": "code",
   "execution_count": null,
   "id": "1262f02c-b6b8-4f2c-a2c3-2cd272673c56",
   "metadata": {
    "tags": []
   },
   "outputs": [],
   "source": [
    "# load data into workspace\n",
    "df = pd.read_csv(\"results/Darcys_Experiment_1.csv\", sep=',')\n",
    "df[\"Flow\"] = df[\"Flow\"]/(np.pi*(.35/2)**2*60*1000) # convert to m/s\n",
    "df2 = pd.read_csv(\"results/Darcys_Experiment_2.csv\", sep=',')\n",
    "df2[\"Flow\"] = df2[\"Flow\"]/(np.pi*(.35/2)**2*60*1000) # convert to m/s\n",
    "df.head()\n",
    "#df2.head()"
   ]
  },
  {
   "cell_type": "code",
   "execution_count": null,
   "id": "18f876a2-ec60-4b27-850d-6bbabc15ce64",
   "metadata": {
    "tags": []
   },
   "outputs": [],
   "source": [
    "# plot data\n",
    "fig, ax = plt.subplots(figsize=(4, 3))\n",
    "ax.plot(df.loc[df[\"Set\"]==1,\"Pressure\"]/0.58, df.loc[df[\"Set\"]==1,\"Flow\"], 'o', c='#a6cee3', label='Set 1.1')\n",
    "ax.plot(df.loc[df[\"Set\"]==2,\"Pressure\"]/1.14, df.loc[df[\"Set\"]==2,\"Flow\"], 'o', c='#1f78b4', label='Set 1.2')\n",
    "ax.plot(df.loc[df[\"Set\"]==3,\"Pressure\"]/1.71, df.loc[df[\"Set\"]==3,\"Flow\"], 'o', c='#b2df8a', label='Set 1.3')\n",
    "ax.plot(df.loc[df[\"Set\"]==4,\"Pressure\"]/1.70, df.loc[df[\"Set\"]==4,\"Flow\"], 'o', c='#33a02c', label='Set 1.4') \n",
    "ax.plot(df2.loc[df2[\"Set\"]==1,\"Pressure difference\"]/1.1, df2.loc[df2[\"Set\"]==1,\"Flow\"], 'o', c='#fb9a99', label='Set 2.1')\n",
    "ax.set_xlim([0, 20])\n",
    "ax.set_ylim([0, 0.006])\n",
    "plt.xlabel('Druck / Länge [-]')\n",
    "plt.ylabel('Durchfluss [m/s]')\n",
    "plt.legend(bbox_to_anchor=(1.05, 0.76))\n",
    "plt.grid(alpha=0.5)\n",
    "%matplotlib inline"
   ]
  },
  {
   "cell_type": "code",
   "execution_count": null,
   "id": "fc9a5663-e7c5-4d60-b260-b04c631fcf4c",
   "metadata": {},
   "outputs": [],
   "source": [
    "# fit data\n",
    "def plot_linear_regression(X,Y,color,text):\n",
    "    model = LinearRegression(fit_intercept=False)\n",
    "    model.fit(X, Y)\n",
    "    predictions = model.predict(X)\n",
    "    slope = model.coef_[0]\n",
    "    ax.plot(X, Y, 'o', c=color)\n",
    "    ax.plot(X, predictions, '-', c=color, label=text+f', K = {slope:.1e} m/s') #.2f\n",
    "\n",
    "# plot data\n",
    "fig, ax = plt.subplots(figsize=(4, 3))\n",
    "plot_linear_regression(df.loc[df[\"Set\"]==1,\"Pressure\"].values.reshape(-1, 1)/0.58, df.loc[df[\"Set\"]==1,\"Flow\"],'#a6cee3','Set 1.1')\n",
    "plot_linear_regression(df.loc[df[\"Set\"]==2,\"Pressure\"].values.reshape(-1, 1)/1.14, df.loc[df[\"Set\"]==2,\"Flow\"],'#1f78b4','Set 1.2')\n",
    "plot_linear_regression(df.loc[df[\"Set\"]==3,\"Pressure\"].values.reshape(-1, 1)/1.71, df.loc[df[\"Set\"]==3,\"Flow\"],'#b2df8a','Set 1.3')\n",
    "plot_linear_regression(df.loc[df[\"Set\"]==4,\"Pressure\"].values.reshape(-1, 1)/1.70, df.loc[df[\"Set\"]==4,\"Flow\"],'#33a02c','Set 1.4')\n",
    "plot_linear_regression(df2.loc[df2[\"Set\"]==1,\"Pressure difference\"].values.reshape(-1, 1)/1.1, df2.loc[df2[\"Set\"]==1,\"Flow\"],'#fb9a99','Set 2.1')\n",
    "ax.set_xlim([0, 20])\n",
    "ax.set_ylim([0, 0.006])\n",
    "plt.xlabel('Druck / Länge [-]')\n",
    "plt.ylabel('Durchfluss [m/s]')\n",
    "plt.grid(alpha=0.5)\n",
    "plt.legend(bbox_to_anchor=(1.05, 0.76))\n",
    "%matplotlib inline"
   ]
  },
  {
   "cell_type": "markdown",
   "id": "95fecdb3-180d-4a3c-ad55-1bb40eac6ed6",
   "metadata": {},
   "source": [
    "## Ergebnisse aus Darcys Bericht\n",
    "\n",
    "Darcy (1856), übersetzt aus dem Französischen: \"Die Unterschiede zwischen den Koeffizientenwerten rühren daher, dass der verwendete Sand nicht durchgehend homogen war. Bei der zweiten Serie war er nicht gewaschen, bei der dritten Serie war er gewaschen und bei der vierten Serie war er sehr gut gewaschen und etwas stärker gekörnt.\"\n",
    "\n",
    "Die folgenden Leitfähigkeiten wurden von Darcy berechnet. Der letzte Wert ist, wie von Freeze (1994) und Brown (2002) bemerkt, entweder falsch berechnet oder die angegebene Säulenlänge stimmt nicht.\n",
    "\n",
    "| Set | Gleichung | $K$ [m/s] |\n",
    "| -------- | -------- | ------- |\n",
    "| 1.1 | $Q$ = 0.286 $I$ | 2.9e-4 |\n",
    "| 1.2 | $Q$ = 0.165 $I$ | 1.7e-4 |\n",
    "| 1.3 | $Q$ = 0.216 $I$ | 2.2e-4 |\n",
    "| 1.4 | $Q$ = 0.332 $I$ | 3.3e-4 |\n",
    "\n",
    "Es gibt einige unklare Stellen in Darcys Bericht, beispielsweise ist die Bennenung der Variablen nicht immer konsistent. Insgesamt beschreibt er aber eindrucksvoll die Entdeckung eines Zusammenhangs, der später vielfach experimentell bestätigt und theoretisch hergeleitet wurde. Darcys Gesetz gehört heutzutage zu den Grundlagen der Hydrogeologie sowie anderer Wissenschaften, die sich mit dem Fließen von Fluiden durch poröse Medien beschäftigen."
   ]
  },
  {
   "cell_type": "code",
   "execution_count": null,
   "id": "842a3d79-62b6-4a8c-94ae-f869d562678f",
   "metadata": {
    "tags": []
   },
   "outputs": [],
   "source": [
    "def f(K):\n",
    "    \n",
    "    K_default = 1e-4\n",
    "    X = df.loc[df[\"Set\"]==1,\"Pressure\"].values.reshape(-1, 1)/0.58\n",
    "    Y_default = K_default*X\n",
    "    Y = K*X\n",
    "    fig, ax = plt.subplots(figsize=(4, 3))\n",
    "    ax.plot(X, Y_default, 'o', c='grey', label='K = 1e-4 m/s')\n",
    "    ax.plot(X, Y, 'o', c='#a6cee3', label=f'K = {K:.1e} m/s')\n",
    "    ax.set_xlim([0, 20])\n",
    "    ax.set_ylim([0, 0.01])\n",
    "    plt.xlabel('Druck / Länge [-]')\n",
    "    plt.ylabel('Durchfluss [m/s]')\n",
    "    plt.grid(alpha=0.5)\n",
    "    plt.legend(bbox_to_anchor=(1.05, 0.76))\n",
    "\n",
    "widgets.interact(f, K=np.logspace(-6,-3, 4))\n",
    "\n",
    "%matplotlib inline"
   ]
  },
  {
   "cell_type": "code",
   "execution_count": null,
   "id": "5be8c359-deb0-403f-bc3b-fe9794a16693",
   "metadata": {},
   "outputs": [],
   "source": []
  }
 ],
 "metadata": {
  "kernelspec": {
   "display_name": "Python 3 (ipykernel)",
   "language": "python",
   "name": "python3"
  },
  "language_info": {
   "codemirror_mode": {
    "name": "ipython",
    "version": 3
   },
   "file_extension": ".py",
   "mimetype": "text/x-python",
   "name": "python",
   "nbconvert_exporter": "python",
   "pygments_lexer": "ipython3",
   "version": "3.11.5"
  }
 },
 "nbformat": 4,
 "nbformat_minor": 5
}
